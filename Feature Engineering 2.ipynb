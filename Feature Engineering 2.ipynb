{
  "nbformat": 4,
  "nbformat_minor": 0,
  "metadata": {
    "colab": {
      "name": "Untitled6.ipynb",
      "provenance": [],
      "collapsed_sections": [],
      "authorship_tag": "ABX9TyOxBiLpr99hJ+GfDGPRF1FS",
      "include_colab_link": true
    },
    "kernelspec": {
      "name": "python3",
      "display_name": "Python 3"
    },
    "language_info": {
      "name": "python"
    }
  },
  "cells": [
    {
      "cell_type": "markdown",
      "metadata": {
        "id": "view-in-github",
        "colab_type": "text"
      },
      "source": [
        "<a href=\"https://colab.research.google.com/github/fanyang2012/Mathematics/blob/main/Feature%20Engineering%202.ipynb\" target=\"_parent\"><img src=\"https://colab.research.google.com/assets/colab-badge.svg\" alt=\"Open In Colab\"/></a>"
      ]
    },
    {
      "cell_type": "markdown",
      "metadata": {
        "id": "TNhrj5SYzr9F"
      },
      "source": [
        "**Feature Engieering**\n",
        "\n",
        "**Definition:** Feature engieering is the process of transforming raw data into features that better represent the underlying problem to the predictive models, resulting in improved model accuracy on unseen data.\n",
        "\n",
        "***Applied machine learning is basically feature engineering.***\n",
        "\n",
        "**Importance:** Feature Engineering is an essential part of building a powerful predictive model\n",
        "\n",
        "**Requirement:** experience and creativity; Data Scientists often spend the majority of time in the data preparation phase before modeling\n",
        "\n",
        "**General Operations:**\n",
        "\n",
        "Modify existing variables\n",
        "\n",
        "Add additional features to our dataset\n",
        "\n",
        "train a predictive model"
      ]
    },
    {
      "cell_type": "markdown",
      "metadata": {
        "id": "uO62dLWP1jji"
      },
      "source": [
        "**Our Project: Adult dataset**\n",
        "\n",
        "**Target:** Train a model to predict whether salary is greater than $50k or not."
      ]
    },
    {
      "cell_type": "code",
      "metadata": {
        "id": "HlTtov2gyUfz"
      },
      "source": [
        "import pandas as pd"
      ],
      "execution_count": 1,
      "outputs": []
    },
    {
      "cell_type": "code",
      "metadata": {
        "colab": {
          "base_uri": "https://localhost:8080/",
          "height": 279
        },
        "id": "cv5ygHNOyO9e",
        "outputId": "d5df0a23-1ac4-482a-ccb1-5a7332b9cb3a"
      },
      "source": [
        "file_path = 'https://raw.githubusercontent.com/pds2021/course/main/nbs/data/adult.csv'\n",
        "adult_data = pd.read_csv(file_path)\n",
        "adult_data.head()"
      ],
      "execution_count": 2,
      "outputs": [
        {
          "output_type": "execute_result",
          "data": {
            "text/html": [
              "<div>\n",
              "<style scoped>\n",
              "    .dataframe tbody tr th:only-of-type {\n",
              "        vertical-align: middle;\n",
              "    }\n",
              "\n",
              "    .dataframe tbody tr th {\n",
              "        vertical-align: top;\n",
              "    }\n",
              "\n",
              "    .dataframe thead th {\n",
              "        text-align: right;\n",
              "    }\n",
              "</style>\n",
              "<table border=\"1\" class=\"dataframe\">\n",
              "  <thead>\n",
              "    <tr style=\"text-align: right;\">\n",
              "      <th></th>\n",
              "      <th>age</th>\n",
              "      <th>workclass</th>\n",
              "      <th>fnlwgt</th>\n",
              "      <th>education</th>\n",
              "      <th>education-num</th>\n",
              "      <th>marital-status</th>\n",
              "      <th>occupation</th>\n",
              "      <th>relationship</th>\n",
              "      <th>race</th>\n",
              "      <th>sex</th>\n",
              "      <th>capital-gain</th>\n",
              "      <th>capital-loss</th>\n",
              "      <th>hours-per-week</th>\n",
              "      <th>native-country</th>\n",
              "      <th>salary</th>\n",
              "    </tr>\n",
              "  </thead>\n",
              "  <tbody>\n",
              "    <tr>\n",
              "      <th>0</th>\n",
              "      <td>49</td>\n",
              "      <td>Private</td>\n",
              "      <td>101320</td>\n",
              "      <td>Assoc-acdm</td>\n",
              "      <td>12.0</td>\n",
              "      <td>Married-civ-spouse</td>\n",
              "      <td>NaN</td>\n",
              "      <td>Wife</td>\n",
              "      <td>White</td>\n",
              "      <td>Female</td>\n",
              "      <td>0</td>\n",
              "      <td>1902</td>\n",
              "      <td>40</td>\n",
              "      <td>United-States</td>\n",
              "      <td>&gt;=50k</td>\n",
              "    </tr>\n",
              "    <tr>\n",
              "      <th>1</th>\n",
              "      <td>44</td>\n",
              "      <td>Private</td>\n",
              "      <td>236746</td>\n",
              "      <td>Masters</td>\n",
              "      <td>14.0</td>\n",
              "      <td>Divorced</td>\n",
              "      <td>Exec-managerial</td>\n",
              "      <td>Not-in-family</td>\n",
              "      <td>White</td>\n",
              "      <td>Male</td>\n",
              "      <td>10520</td>\n",
              "      <td>0</td>\n",
              "      <td>45</td>\n",
              "      <td>United-States</td>\n",
              "      <td>&gt;=50k</td>\n",
              "    </tr>\n",
              "    <tr>\n",
              "      <th>2</th>\n",
              "      <td>38</td>\n",
              "      <td>Private</td>\n",
              "      <td>96185</td>\n",
              "      <td>HS-grad</td>\n",
              "      <td>NaN</td>\n",
              "      <td>Divorced</td>\n",
              "      <td>NaN</td>\n",
              "      <td>Unmarried</td>\n",
              "      <td>Black</td>\n",
              "      <td>Female</td>\n",
              "      <td>0</td>\n",
              "      <td>0</td>\n",
              "      <td>32</td>\n",
              "      <td>United-States</td>\n",
              "      <td>&lt;50k</td>\n",
              "    </tr>\n",
              "    <tr>\n",
              "      <th>3</th>\n",
              "      <td>38</td>\n",
              "      <td>Self-emp-inc</td>\n",
              "      <td>112847</td>\n",
              "      <td>Prof-school</td>\n",
              "      <td>15.0</td>\n",
              "      <td>Married-civ-spouse</td>\n",
              "      <td>Prof-specialty</td>\n",
              "      <td>Husband</td>\n",
              "      <td>Asian-Pac-Islander</td>\n",
              "      <td>Male</td>\n",
              "      <td>0</td>\n",
              "      <td>0</td>\n",
              "      <td>40</td>\n",
              "      <td>United-States</td>\n",
              "      <td>&gt;=50k</td>\n",
              "    </tr>\n",
              "    <tr>\n",
              "      <th>4</th>\n",
              "      <td>42</td>\n",
              "      <td>Self-emp-not-inc</td>\n",
              "      <td>82297</td>\n",
              "      <td>7th-8th</td>\n",
              "      <td>NaN</td>\n",
              "      <td>Married-civ-spouse</td>\n",
              "      <td>Other-service</td>\n",
              "      <td>Wife</td>\n",
              "      <td>Black</td>\n",
              "      <td>Female</td>\n",
              "      <td>0</td>\n",
              "      <td>0</td>\n",
              "      <td>50</td>\n",
              "      <td>United-States</td>\n",
              "      <td>&lt;50k</td>\n",
              "    </tr>\n",
              "  </tbody>\n",
              "</table>\n",
              "</div>"
            ],
            "text/plain": [
              "   age          workclass  fnlwgt  ... hours-per-week  native-country salary\n",
              "0   49            Private  101320  ...             40   United-States  >=50k\n",
              "1   44            Private  236746  ...             45   United-States  >=50k\n",
              "2   38            Private   96185  ...             32   United-States   <50k\n",
              "3   38       Self-emp-inc  112847  ...             40   United-States  >=50k\n",
              "4   42   Self-emp-not-inc   82297  ...             50   United-States   <50k\n",
              "\n",
              "[5 rows x 15 columns]"
            ]
          },
          "metadata": {
            "tags": []
          },
          "execution_count": 2
        }
      ]
    },
    {
      "cell_type": "markdown",
      "metadata": {
        "id": "wQtXMeqh2IJV"
      },
      "source": [
        "**Select variables and split dataset**\n",
        "\n",
        "Select feature and target variables\n",
        "\n",
        "**Target variable:** binary variable 0 / 1\n",
        "\n",
        "0: Salary < $50k; 1: Salary > $50k"
      ]
    },
    {
      "cell_type": "markdown",
      "metadata": {
        "id": "cisY_FnY281K"
      },
      "source": [
        "Use assign() Or Function and apply() (which are described in the chapter of \"Descriptive Analytics\""
      ]
    },
    {
      "cell_type": "markdown",
      "metadata": {
        "id": "y_jfZhy15mX6"
      },
      "source": [
        "**Option 1:** define a function and use apply() to replace the column values"
      ]
    },
    {
      "cell_type": "code",
      "metadata": {
        "id": "f2xU9gBVzfnG"
      },
      "source": [
        "def binsalary (x): \n",
        "  if x == \">=50k\": \n",
        "    return 1\n",
        "  else: \n",
        "    return 0"
      ],
      "execution_count": 3,
      "outputs": []
    },
    {
      "cell_type": "code",
      "metadata": {
        "id": "Emx1MfUA4IFV"
      },
      "source": [
        "adult_data_copy = adult_data.copy()\n",
        "adult_data_copy[\"salary\"] = adult_data_copy[\"salary\"].apply(binsalary)\n",
        "adult_data_copy.head()"
      ],
      "execution_count": null,
      "outputs": []
    },
    {
      "cell_type": "code",
      "metadata": {
        "id": "ux6ui0TW5yGq"
      },
      "source": [
        "adult_data_plus = adult_data.copy()"
      ],
      "execution_count": 30,
      "outputs": []
    },
    {
      "cell_type": "code",
      "metadata": {
        "id": "HIP0A6M8dAi-"
      },
      "source": [
        "salary = (adult_data_plus[\"salary\"] == '>=50k').astype(int) # in total just 2 cases, that are 0 or 1\n",
        "salary"
      ],
      "execution_count": null,
      "outputs": []
    },
    {
      "cell_type": "code",
      "metadata": {
        "id": "DoPm5YMGd-lz"
      },
      "source": [
        "adult_data_plus = adult_data_plus.assign(salary = (adult_data_plus[\"salary\"] == '>=50k').astype(int)) # assign() Assign new columns (here salary) to a DataFrame.Returns a new object with all original columns in addition to new ones.\n",
        "adult_data_plus # original data adds a new column with 0 and 1 instead of the original column with string"
      ],
      "execution_count": null,
      "outputs": []
    },
    {
      "cell_type": "code",
      "metadata": {
        "id": "VWCytXADhV_G"
      },
      "source": [
        "y = adult_data_plus[\"salary\"] # target variables\n",
        "X = adult_data_plus.drop(\"salary\", axis = 1) # features without target variables; If drop columns add axis =1"
      ],
      "execution_count": 33,
      "outputs": []
    },
    {
      "cell_type": "code",
      "metadata": {
        "id": "vqkHN3NXimRE"
      },
      "source": [
        "from sklearn.model_selection import train_test_split"
      ],
      "execution_count": 34,
      "outputs": []
    },
    {
      "cell_type": "code",
      "metadata": {
        "id": "ExDGny9Wivu2"
      },
      "source": [
        "train_X, val_X, train_y, val_y = train_test_split(X, y, random_state = 0)"
      ],
      "execution_count": 35,
      "outputs": []
    }
  ]
}