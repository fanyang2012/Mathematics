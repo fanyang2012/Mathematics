{
  "nbformat": 4,
  "nbformat_minor": 0,
  "metadata": {
    "colab": {
      "name": "Data analysis with pandas.ipynb",
      "provenance": [],
      "collapsed_sections": [],
      "authorship_tag": "ABX9TyO6NWEsxB7fMBDMtX7/iZHy",
      "include_colab_link": true
    },
    "kernelspec": {
      "name": "python3",
      "display_name": "Python 3"
    },
    "language_info": {
      "name": "python"
    }
  },
  "cells": [
    {
      "cell_type": "markdown",
      "metadata": {
        "id": "view-in-github",
        "colab_type": "text"
      },
      "source": [
        "<a href=\"https://colab.research.google.com/github/fanyang2012/Mathematics/blob/main/Data_analysis_with_pandas.ipynb\" target=\"_parent\"><img src=\"https://colab.research.google.com/assets/colab-badge.svg\" alt=\"Open In Colab\"/></a>"
      ]
    },
    {
      "cell_type": "code",
      "metadata": {
        "id": "uJ1f0U2rtAJM"
      },
      "source": [
        "import numpy as np\n",
        "import pandas as pd\n",
        "import matplotlib.pyplot as plt\n",
        "import plotly.express as px"
      ],
      "execution_count": null,
      "outputs": []
    },
    {
      "cell_type": "markdown",
      "metadata": {
        "id": "ZDU0JPl5t_S6"
      },
      "source": [
        "**Import data \"csv\"**\n",
        "\n",
        "Define index_col, columns, index"
      ]
    },
    {
      "cell_type": "code",
      "metadata": {
        "id": "fyzft6n0twjU"
      },
      "source": [
        "movies_df = pd.read_csv(\"https://raw.githubusercontent.com/pds2021/course/main/nbs/data/IMDB-Movie-Data.csv\", index_col=\"Title\")"
      ],
      "execution_count": null,
      "outputs": []
    },
    {
      "cell_type": "markdown",
      "metadata": {
        "id": "9tSMULfe0lb4"
      },
      "source": [
        "**First data view**\n",
        "\n",
        "head, shape, info, describe, columns, index"
      ]
    },
    {
      "cell_type": "code",
      "metadata": {
        "id": "oDke9mN-uH1d"
      },
      "source": [
        "movies_df.head()"
      ],
      "execution_count": null,
      "outputs": []
    },
    {
      "cell_type": "code",
      "metadata": {
        "colab": {
          "base_uri": "https://localhost:8080/"
        },
        "id": "NqPDeZnUuUVK",
        "outputId": "9a321457-c2c2-44c4-96ad-60f699681823"
      },
      "source": [
        "movies_df.shape"
      ],
      "execution_count": null,
      "outputs": [
        {
          "output_type": "execute_result",
          "data": {
            "text/plain": [
              "(1000, 11)"
            ]
          },
          "metadata": {
            "tags": []
          },
          "execution_count": 5
        }
      ]
    },
    {
      "cell_type": "code",
      "metadata": {
        "id": "n2Y5-XqC0C-I"
      },
      "source": [
        "movies_df.info()"
      ],
      "execution_count": null,
      "outputs": []
    },
    {
      "cell_type": "code",
      "metadata": {
        "id": "t7WuxOIu0D7L"
      },
      "source": [
        "movies_df.describe()"
      ],
      "execution_count": null,
      "outputs": []
    },
    {
      "cell_type": "code",
      "metadata": {
        "id": "XK920PF11qUh"
      },
      "source": [
        "print(movies_df.columns)\n",
        "print(movies_df.index)"
      ],
      "execution_count": null,
      "outputs": []
    },
    {
      "cell_type": "markdown",
      "metadata": {
        "id": "HGGEPzgc2L6O"
      },
      "source": [
        "**Data Preprocessing**"
      ]
    },
    {
      "cell_type": "markdown",
      "metadata": {
        "id": "0xLjY8TxzjBA"
      },
      "source": [
        "**1. Clean up Column names: Rename column and correct name**\n",
        "\n",
        "https://blog.csdn.net/qq_41953252/article/details/108963469"
      ]
    },
    {
      "cell_type": "code",
      "metadata": {
        "colab": {
          "base_uri": "https://localhost:8080/"
        },
        "id": "i4ve2dj0ue_-",
        "outputId": "a3eeb587-7e73-4107-abe0-096de501d8b7"
      },
      "source": [
        "movies_df.columns"
      ],
      "execution_count": null,
      "outputs": [
        {
          "output_type": "execute_result",
          "data": {
            "text/plain": [
              "Index(['Rank', 'Genre', 'Description', 'Director', 'Actors', 'Year',\n",
              "       'Runtime (Minutes)', 'Rating', 'Votes', 'Revenue (Millions)',\n",
              "       'Metascore'],\n",
              "      dtype='object')"
            ]
          },
          "metadata": {
            "tags": []
          },
          "execution_count": 6
        }
      ]
    },
    {
      "cell_type": "code",
      "metadata": {
        "id": "m31H70p-u1H1"
      },
      "source": [
        "movies_df.rename(columns={\n",
        "        'Runtime (Minutes)': 'Runtime', \n",
        "        'Revenue (Millions)': 'Revenue_millions'\n",
        "    }, inplace=True)\n",
        "movies_df.columns = ['Rank', 'Genre', 'Description', 'Director', 'Actors', 'Year',\n",
        "       'Runtime', 'Rating', 'Votes', 'Revenue',\n",
        "       'Metascore']\n",
        "print(movies_df.columns)"
      ],
      "execution_count": null,
      "outputs": []
    },
    {
      "cell_type": "code",
      "metadata": {
        "id": "QVr5PfdZvjmM"
      },
      "source": [
        "movies_df.columns = movies_df.columns.str.lower()\n",
        "movies_df.columns = [col.capitalize() for col in movies_df]\n",
        "print(movies_df.columns)"
      ],
      "execution_count": null,
      "outputs": []
    },
    {
      "cell_type": "code",
      "metadata": {
        "id": "Mr-r4YRfz1JY"
      },
      "source": [
        "# df.columns = df.columns.str.strip(’$’)"
      ],
      "execution_count": null,
      "outputs": []
    },
    {
      "cell_type": "markdown",
      "metadata": {
        "id": "IeNEpLWm12br"
      },
      "source": [
        "**2. Drop Duplicates**\n",
        "\n",
        "Drop_duplicates ()"
      ]
    },
    {
      "cell_type": "code",
      "metadata": {
        "id": "xKeyf1DVulum"
      },
      "source": [
        ""
      ],
      "execution_count": null,
      "outputs": []
    },
    {
      "cell_type": "code",
      "metadata": {
        "id": "Q5FJAVj0usyP"
      },
      "source": [
        ""
      ],
      "execution_count": null,
      "outputs": []
    },
    {
      "cell_type": "markdown",
      "metadata": {
        "id": "6-9iAETI2XeP"
      },
      "source": [
        "**3. Work with missing values**"
      ]
    },
    {
      "cell_type": "code",
      "metadata": {
        "id": "jaR9SpFdvPJU"
      },
      "source": [
        ""
      ],
      "execution_count": null,
      "outputs": []
    },
    {
      "cell_type": "markdown",
      "metadata": {
        "id": "AzYG20c22nje"
      },
      "source": [
        "**DataFrames operations**"
      ]
    },
    {
      "cell_type": "markdown",
      "metadata": {
        "id": "Yfzahq_Y2sFc"
      },
      "source": [
        "**1. Slice Columns**"
      ]
    },
    {
      "cell_type": "markdown",
      "metadata": {
        "id": "sfswP3222yJb"
      },
      "source": [
        "**2. Select Rows with conditions**"
      ]
    },
    {
      "cell_type": "markdown",
      "metadata": {
        "id": "cRYMDJgT22Vm"
      },
      "source": [
        "**3. Aggregations**"
      ]
    },
    {
      "cell_type": "markdown",
      "metadata": {
        "id": "3Z8hxU6k3Bso"
      },
      "source": [
        "**4. Row grouping**\n",
        "\n",
        "data.groupby()[]"
      ]
    },
    {
      "cell_type": "markdown",
      "metadata": {
        "id": "pfY-IJzJ3Tn-"
      },
      "source": [
        "**5. Sort values**\n",
        "\n",
        "sort_values(ascending=False)"
      ]
    },
    {
      "cell_type": "code",
      "metadata": {
        "id": "upfLEjhJ3mex"
      },
      "source": [
        ""
      ],
      "execution_count": null,
      "outputs": []
    }
  ]
}