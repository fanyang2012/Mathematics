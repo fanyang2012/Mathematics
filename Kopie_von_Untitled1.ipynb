{
  "nbformat": 4,
  "nbformat_minor": 0,
  "metadata": {
    "colab": {
      "name": "Kopie von Untitled1.ipynb",
      "provenance": [],
      "authorship_tag": "ABX9TyOBjGK12G9ZJjQ7zUHtn9Zb",
      "include_colab_link": true
    },
    "kernelspec": {
      "name": "python3",
      "display_name": "Python 3"
    },
    "language_info": {
      "name": "python"
    }
  },
  "cells": [
    {
      "cell_type": "markdown",
      "metadata": {
        "id": "view-in-github",
        "colab_type": "text"
      },
      "source": [
        "<a href=\"https://colab.research.google.com/github/fanyang2012/Mathematics/blob/main/Kopie_von_Untitled1.ipynb\" target=\"_parent\"><img src=\"https://colab.research.google.com/assets/colab-badge.svg\" alt=\"Open In Colab\"/></a>"
      ]
    },
    {
      "cell_type": "markdown",
      "metadata": {
        "id": "Ld4ti3a7A4nZ"
      },
      "source": [
        "Mathematics in Python"
      ]
    },
    {
      "cell_type": "code",
      "metadata": {
        "id": "IPjdSVQy-RAT"
      },
      "source": [
        "import math"
      ],
      "execution_count": 1,
      "outputs": []
    },
    {
      "cell_type": "code",
      "metadata": {
        "id": "IVHUN5tdA3m7"
      },
      "source": [
        "dir(math)"
      ],
      "execution_count": null,
      "outputs": []
    },
    {
      "cell_type": "markdown",
      "metadata": {
        "id": "sPIyqI0cA39e"
      },
      "source": [
        ""
      ]
    },
    {
      "cell_type": "code",
      "metadata": {
        "colab": {
          "base_uri": "https://localhost:8080/"
        },
        "id": "9h8QsC_VB0Jf",
        "outputId": "de9e72e5-46b8-4797-f7f3-312b47bb88c4"
      },
      "source": [
        "math.log10(100)"
      ],
      "execution_count": null,
      "outputs": [
        {
          "output_type": "execute_result",
          "data": {
            "text/plain": [
              "2.0"
            ]
          },
          "metadata": {
            "tags": []
          },
          "execution_count": 13
        }
      ]
    },
    {
      "cell_type": "markdown",
      "metadata": {
        "id": "Ma0fCahXPl6l"
      },
      "source": [
        "Function test"
      ]
    },
    {
      "cell_type": "code",
      "metadata": {
        "id": "1QQ_DXbgJANm"
      },
      "source": [
        "def rest():\n",
        "  x = input(\"x: \")\n",
        "  y= int(x)/6\n",
        "  return print(y)\n",
        "rest = rest()"
      ],
      "execution_count": null,
      "outputs": []
    },
    {
      "cell_type": "markdown",
      "metadata": {
        "id": "2K0TIGRtPuw2"
      },
      "source": [
        "Test of \"for loop\" break and continue\n",
        "\n",
        "\"https://www.programiz.com/python-programming/break-continue\""
      ]
    },
    {
      "cell_type": "code",
      "metadata": {
        "id": "bxW0F54PNbEC"
      },
      "source": [
        "for i in \"Hello World!\": \n",
        "  if i == \"r\": \n",
        "    break\n",
        "  print(i)\n",
        "print(\"Great!\")"
      ],
      "execution_count": null,
      "outputs": []
    },
    {
      "cell_type": "code",
      "metadata": {
        "id": "kGczr6WGPk6X"
      },
      "source": [
        "for i in \"Hello World!\": \n",
        "  if i == \"r\": \n",
        "    continue\n",
        "  print(i)\n",
        "print(\"Great!\")"
      ],
      "execution_count": null,
      "outputs": []
    },
    {
      "cell_type": "markdown",
      "metadata": {
        "id": "PLQqIstFT9SP"
      },
      "source": [
        "Numpy learning"
      ]
    },
    {
      "cell_type": "code",
      "metadata": {
        "id": "JCJ9GHscTcEE"
      },
      "source": [
        "import numpy as np"
      ],
      "execution_count": 2,
      "outputs": []
    },
    {
      "cell_type": "markdown",
      "metadata": {
        "id": "Y4uhx32cVO7-"
      },
      "source": [
        "Traditional way to handel list operation"
      ]
    },
    {
      "cell_type": "code",
      "metadata": {
        "colab": {
          "base_uri": "https://localhost:8080/"
        },
        "id": "mh0_YA6yUIoY",
        "outputId": "833b8274-c433-467f-dd2a-396024f2ad17"
      },
      "source": [
        "def pysum():\n",
        "  a = [0,1,2,3,4]\n",
        "  b = [9,8,7,6,5]\n",
        "  c=[]\n",
        "  for i in range (len(a)):\n",
        "    c.append(a[i]**2 + b[i]**3)\n",
        "  return c\n",
        "print(pysum())"
      ],
      "execution_count": null,
      "outputs": [
        {
          "output_type": "stream",
          "text": [
            "[729, 513, 347, 225, 141]\n"
          ],
          "name": "stdout"
        }
      ]
    },
    {
      "cell_type": "markdown",
      "metadata": {
        "id": "dk5k8LNlVYyG"
      },
      "source": [
        "numpy - nd.array"
      ]
    },
    {
      "cell_type": "code",
      "metadata": {
        "colab": {
          "base_uri": "https://localhost:8080/"
        },
        "id": "h1Pu9Y7TVJ3z",
        "outputId": "dc9b56f6-35cf-4e65-9111-41a0cde274ec"
      },
      "source": [
        "def npsum():\n",
        "  a = np.array([0,1,2,3,4])\n",
        "  b = np.array([9,8,7,6,5])\n",
        "  c = a ** 2 + b ** 3\n",
        "  return c\n",
        "print(npsum())"
      ],
      "execution_count": null,
      "outputs": [
        {
          "output_type": "stream",
          "text": [
            "[729 513 347 225 141]\n"
          ],
          "name": "stdout"
        }
      ]
    },
    {
      "cell_type": "code",
      "metadata": {
        "colab": {
          "base_uri": "https://localhost:8080/"
        },
        "id": "2Eo4260VWq4Y",
        "outputId": "155d6e76-76f1-46d4-81e3-eae1819bc74e"
      },
      "source": [
        "  a = np.array([0,1,2,3,4])\n",
        "  b = np.array([9,8,7,6,5])\n",
        "  c = a ** 2 + b ** 3\n",
        "  print(c)\n",
        "  c.ndim\n",
        "  c.shape\n",
        "  c.size\n",
        "  c.dtype"
      ],
      "execution_count": null,
      "outputs": [
        {
          "output_type": "stream",
          "text": [
            "[729 513 347 225 141]\n"
          ],
          "name": "stdout"
        },
        {
          "output_type": "execute_result",
          "data": {
            "text/plain": [
              "dtype('int64')"
            ]
          },
          "metadata": {
            "tags": []
          },
          "execution_count": 47
        }
      ]
    },
    {
      "cell_type": "markdown",
      "metadata": {
        "id": "s8QDb-TvZlAY"
      },
      "source": [
        "Create np.array"
      ]
    },
    {
      "cell_type": "code",
      "metadata": {
        "id": "dBki176SY53U"
      },
      "source": [
        "def createArray(): \n",
        "  x = np.array([[1,2],[3,5],[0.1,0.2]], dtype= np.float32)\n",
        "  y = np.arange(10)\n",
        "  z = np.ones(shape=(3,5))\n",
        "  a = np.zeros((4,6))\n",
        "  b = np.full((2,3),6)\n",
        "  c = np.eye(9)\n",
        "  d = np.ones_like (a)\n",
        "  e = np.zeros_like (a)\n",
        "  f = np.full_like(a, 5)\n",
        "  g = np.linspace(1,10,4)\n",
        "  h = np.linspace (1,10,4,endpoint=False)\n",
        "  i = np.concatenate((g,h))\n",
        "  return print(x,y,z,a,b,c,d,e,f,g,h,i, sep=\"\\n\")\n",
        "print(createArray())"
      ],
      "execution_count": null,
      "outputs": []
    },
    {
      "cell_type": "code",
      "metadata": {
        "id": "EUeZbXk-dDkT"
      },
      "source": [
        "x = np.full((3,5),-5)\n",
        "y = x.reshape((5,3))\n",
        "z = x.swapaxes(0,1)\n",
        "a = x.flatten()\n",
        "print(x,y,z,a,sep=\"\\n\")"
      ],
      "execution_count": null,
      "outputs": []
    },
    {
      "cell_type": "code",
      "metadata": {
        "id": "hJU-zC9ydwGK"
      },
      "source": [
        "np.sqrt(x)\n",
        "np.abs(x)\n",
        "np.square(x)"
      ],
      "execution_count": null,
      "outputs": []
    },
    {
      "cell_type": "markdown",
      "metadata": {
        "id": "5HRN6e0qgUE3"
      },
      "source": [
        "Numpy - Random generation"
      ]
    },
    {
      "cell_type": "code",
      "metadata": {
        "id": "NZEzEARHgbpP"
      },
      "source": [
        "ra = np.random.rand(3,5) # [0,1] uniform distribution\n",
        "rb = np.random.randn(3,5) # standard normal distribution\n",
        "rc = np.random.randint(100,200,(8,))\n",
        "rd = np.random.choice(rc,(3,2),p = rc/np.sum(rc))\n",
        "print(ra,rb,rc,rd,sep=\"\\n\")"
      ],
      "execution_count": null,
      "outputs": []
    },
    {
      "cell_type": "code",
      "metadata": {
        "id": "i2WE5iIDrPUf"
      },
      "source": [
        "raa = np.random.uniform(0,10,(3,4)) # uniform distribution\n",
        "rab = np.random.normal(5,0.2,(3,5)) # normal distribution\n",
        "rac = np.random.poisson(2,(2,3)) # poission distribution\n",
        "print(raa,rab,rac,sep=\"\\n\")"
      ],
      "execution_count": null,
      "outputs": []
    },
    {
      "cell_type": "markdown",
      "metadata": {
        "id": "fGvPSaroudtG"
      },
      "source": [
        "**Introduction - Matrix**\n",
        "\n",
        "A matrix  (whose plural is matrices) is a rectangular array of numbers, symbols, or expressions, arranged in rows and columns.\n",
        "\n",
        "A matrix with m rows and n columns is called an m × n matrix or m-by-n matrix, where m and n are called the matrix dimensions.\n",
        "\n",
        "element: An individual item in a matrix\n",
        "\n",
        "row vector: A matrix with a single row\n",
        "\n",
        "column vector: A matrix with a single column\n",
        "\n",
        "square matrix: A matrix which has the same number of rows and columns"
      ]
    },
    {
      "cell_type": "code",
      "metadata": {
        "id": "1L6kSa-nufFh"
      },
      "source": [
        "M = np.array([[3,4],[-1,5]])\n",
        "N = np.array([[2,8], [6,-2]])\n",
        "Mrow = M[0,:] # row vector\n",
        "Mcol = M[:,0] # column vector\n",
        "print(Mrow)\n",
        "print(Mcol)\n",
        "print(M+N,M-N,M*N,M/N,3*M,2*N,sep=\"\\n\") # Arithematic Operations\n",
        "print(\"1\",M)\n",
        "print(\"2\", M * M)\n",
        "print(\"3\",pow(M,3)) # power of matrix\n",
        "print(\"4\",M @ M) # matrix multiplication\n",
        "print(\"5\",M.T) # matrix transpose\n",
        "print(\"6\",M @ M.T) # symmetric matrix"
      ],
      "execution_count": null,
      "outputs": []
    },
    {
      "cell_type": "code",
      "metadata": {
        "id": "wO9y2VuNokek"
      },
      "source": [
        "  z = np.ones(shape=(3,3))\n",
        "  a = np.zeros((4,4))\n",
        "  b = np.full((2,3),6)\n",
        "  c = np.eye(5)\n",
        "  print(z,a,b,c, sep=\"\\n\")"
      ],
      "execution_count": null,
      "outputs": []
    },
    {
      "cell_type": "markdown",
      "metadata": {
        "id": "Ni-Rfrf3wdsl"
      },
      "source": [
        "**Matrix manipulation**: If \n",
        "A\n",
        " is an \n",
        "n\n",
        "×\n",
        "m\n",
        "  matrix and \n",
        "B\n",
        " is an \n",
        "m\n",
        "×\n",
        "p\n",
        " matrix, the result \n",
        "A\n",
        "B\n",
        " of their multiplication is an \n",
        "n\n",
        "×\n",
        "p\n",
        " matrix defined only if the number of columns \n",
        "m\n",
        " in \n",
        "A\n",
        " is equal to the number of rows \n",
        "m\n",
        " in \n",
        "B\n",
        "."
      ]
    },
    {
      "cell_type": "code",
      "metadata": {
        "id": "Ri4iGiAyswrI"
      },
      "source": [
        "M = np.array([[3,4,-5],[-1,5,2]])\n",
        "N = np.array([[2,8], [6,-2],[-6,9]])\n",
        "print(M.shape) # 2 columns * 3 rows\n",
        "print(M.size)\n",
        "print(N.ndim)\n",
        "print(M @ N) # matrix manipulation 3*2 matrix multiply by 2*3 matrix\n",
        "print(N @ M) # Notice: M @ N != N @ M"
      ],
      "execution_count": null,
      "outputs": []
    },
    {
      "cell_type": "markdown",
      "metadata": {
        "id": "JGOXZcvbyMI4"
      },
      "source": [
        "Matrix Transpose"
      ]
    },
    {
      "cell_type": "code",
      "metadata": {
        "id": "NxHl8vZfwqO_"
      },
      "source": [
        "M = np.array([[3,4],[-1,5]])\n",
        "N = np.array([[2,8], [6,-2]])\n",
        "print(M)\n",
        "print(M.T)\n",
        "print(M.T.T) # The transpose of transpose of matrix equals to matrix itself\n",
        "print(M+N)\n",
        "print((M+N).T)\n",
        "print(M.T + N.T) # M.T + N.T = (M+N).T\n",
        "(3 * M).T == 3 * M.T\n",
        "print((M*N).T, M.T * N.T, sep=\"\\n\") "
      ],
      "execution_count": null,
      "outputs": []
    },
    {
      "cell_type": "markdown",
      "metadata": {
        "id": "JCHtb1zSXAmn"
      },
      "source": [
        "Inverse of a Matrix\n",
        "\n",
        "numpy.linalg.inv()\n",
        "\n",
        "The inverse of A is A-1 only when:(I: Identity Matrix)\n",
        "\n",
        "$$ A × A^{-1} = A^{-1} × A = I $$\n",
        "\n",
        "Sometimes there is no inverse at all.\n",
        "\n",
        "https://www.shuxuele.com/algebra/matrix-inverse.html\n",
        "\n",
        "https://www.mathsisfun.com/algebra/matrix-inverse.html#:~:text=To%20find%20the%20inverse%20of,determinant%20(ad%2Dbc)."
      ]
    },
    {
      "cell_type": "code",
      "metadata": {
        "id": "TwjBOA01YbUh",
        "outputId": "7e6d4c98-3b1a-4a60-bd09-2b218223c5c5",
        "colab": {
          "base_uri": "https://localhost:8080/"
        }
      },
      "source": [
        "x = np.array([[3,4],[-1,5]])\n",
        "ra = np.linalg.matrix_rank(x) # rank of matrix\n",
        "y = np.linalg.inv(x) # inverse of matrix\n",
        "print(x)\n",
        "print(y)\n",
        "print(ra)\n",
        "print(x @ y) # Identitiy Matrix"
      ],
      "execution_count": 3,
      "outputs": [
        {
          "output_type": "stream",
          "text": [
            "[[ 3  4]\n",
            " [-1  5]]\n",
            "[[ 0.26315789 -0.21052632]\n",
            " [ 0.05263158  0.15789474]]\n",
            "2\n",
            "[[1.00000000e+00 0.00000000e+00]\n",
            " [3.46944695e-17 1.00000000e+00]]\n"
          ],
          "name": "stdout"
        }
      ]
    },
    {
      "cell_type": "markdown",
      "metadata": {
        "id": "H5-pgyECUNyn"
      },
      "source": [
        "Rank and determinant of Identity Matrix"
      ]
    },
    {
      "cell_type": "code",
      "metadata": {
        "id": "1KoiCYv8eY-A"
      },
      "source": [
        "rae = np.eye(5)\n",
        "print(rae)\n",
        "print(np.linalg.matrix_rank(rae))\n",
        "print(np.linalg.det(rae)) # Determinant of matrix"
      ],
      "execution_count": null,
      "outputs": []
    },
    {
      "cell_type": "code",
      "metadata": {
        "id": "vP7qpjVtUXP6"
      },
      "source": [
        "x = np.array([[3,4,9,2],[-1,5,2,3]])\n",
        "print(x)\n",
        "print(np.linalg.matrix_rank(x))"
      ],
      "execution_count": null,
      "outputs": []
    }
  ]
}